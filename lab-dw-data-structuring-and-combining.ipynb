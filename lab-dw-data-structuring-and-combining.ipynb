{
 "cells": [
  {
   "cell_type": "markdown",
   "id": "25d7736c-ba17-4aff-b6bb-66eba20fbf4e",
   "metadata": {
    "id": "25d7736c-ba17-4aff-b6bb-66eba20fbf4e"
   },
   "source": [
    "# Lab | Data Structuring and Combining Data"
   ]
  },
  {
   "cell_type": "markdown",
   "id": "a2cdfc70-44c8-478c-81e7-2bc43fdf4986",
   "metadata": {
    "id": "a2cdfc70-44c8-478c-81e7-2bc43fdf4986"
   },
   "source": [
    "## Challenge 1: Combining & Cleaning Data\n",
    "\n",
    "In this challenge, we will be working with the customer data from an insurance company, as we did in the two previous labs. The data can be found here:\n",
    "- https://raw.githubusercontent.com/data-bootcamp-v4/data/main/file1.csv\n",
    "\n",
    "But this time, we got new data, which can be found in the following 2 CSV files located at the links below.\n",
    "\n",
    "- https://raw.githubusercontent.com/data-bootcamp-v4/data/main/file2.csv\n",
    "- https://raw.githubusercontent.com/data-bootcamp-v4/data/main/file3.csv\n",
    "\n",
    "Note that you'll need to clean and format the new data.\n",
    "\n",
    "Observation:\n",
    "- One option is to first combine the three datasets and then apply the cleaning function to the new combined dataset\n",
    "- Another option would be to read the clean file you saved in the previous lab, and just clean the two new files and concatenate the three clean datasets"
   ]
  },
  {
   "cell_type": "code",
   "execution_count": 2,
   "id": "492d06e3-92c7-4105-ac72-536db98d3244",
   "metadata": {
    "id": "492d06e3-92c7-4105-ac72-536db98d3244"
   },
   "outputs": [],
   "source": [
    "import pandas as pd #import pandas as pd\n",
    "#read in the three csv files from the github repository\n",
    "df_1 = pd.read_csv('https://raw.githubusercontent.com/data-bootcamp-v4/data/main/file1.csv')\n",
    "df_2 = pd.read_csv('https://raw.githubusercontent.com/data-bootcamp-v4/data/main/file2.csv')\n",
    "df_3 = pd.read_csv('https://raw.githubusercontent.com/data-bootcamp-v4/data/main/file3.csv')\n"
   ]
  },
  {
   "cell_type": "code",
   "execution_count": 2,
   "id": "bb8f0cfb",
   "metadata": {},
   "outputs": [
    {
     "name": "stdout",
     "output_type": "stream",
     "text": [
      "Index(['Customer', 'ST', 'GENDER', 'Education', 'Customer Lifetime Value',\n",
      "       'Income', 'Monthly Premium Auto', 'Number of Open Complaints',\n",
      "       'Policy Type', 'Vehicle Class', 'Total Claim Amount'],\n",
      "      dtype='object') Index(['Customer', 'ST', 'GENDER', 'Education', 'Customer Lifetime Value',\n",
      "       'Income', 'Monthly Premium Auto', 'Number of Open Complaints',\n",
      "       'Total Claim Amount', 'Policy Type', 'Vehicle Class'],\n",
      "      dtype='object') Index(['Customer', 'State', 'Customer Lifetime Value', 'Education', 'Gender',\n",
      "       'Income', 'Monthly Premium Auto', 'Number of Open Complaints',\n",
      "       'Policy Type', 'Total Claim Amount', 'Vehicle Class'],\n",
      "      dtype='object')\n"
     ]
    }
   ],
   "source": [
    "print(df_1.columns, df_2.columns, df_3.columns) #print the columns of the three dataframes and check if they are the same"
   ]
  },
  {
   "cell_type": "code",
   "execution_count": 3,
   "id": "b47525e3",
   "metadata": {},
   "outputs": [],
   "source": [
    "for df in [df_1, df_2, df_3]: #for each dataframe in the list \n",
    "    df.columns = df.columns.str.strip().str.lower() #strip the column names of whitespace and convert them to lowercase\n",
    "    df.rename(columns={'st': 'state'}, inplace=True) #rename the column 'st' to 'state'\n",
    "    df.replace(r'^\\s+|\\s+$', '', regex=True, inplace=True)  #replace leading and trailing whitespace with empty string\n"
   ]
  },
  {
   "cell_type": "code",
   "execution_count": 4,
   "id": "e33f1164",
   "metadata": {},
   "outputs": [
    {
     "data": {
      "text/plain": [
       "Index(['customer', 'state', 'gender', 'education', 'customer lifetime value',\n",
       "       'income', 'monthly premium auto', 'number of open complaints',\n",
       "       'policy type', 'vehicle class', 'total claim amount'],\n",
       "      dtype='object')"
      ]
     },
     "execution_count": 4,
     "metadata": {},
     "output_type": "execute_result"
    }
   ],
   "source": [
    "df_combined = pd.concat([df_1, df_2, df_3], axis=0) #concatenate the three dataframes into one\n",
    "df_combined.reset_index(drop=True, inplace=True) #reset the index of the combined dataframe to avoid duplicate indices\n",
    "df_combined.columns"
   ]
  },
  {
   "cell_type": "code",
   "execution_count": 5,
   "id": "feb4df6c",
   "metadata": {},
   "outputs": [
    {
     "data": {
      "text/plain": [
       "(12074, 11)"
      ]
     },
     "execution_count": 5,
     "metadata": {},
     "output_type": "execute_result"
    }
   ],
   "source": [
    "df_combined.shape # Check the shape of the combined dataframe"
   ]
  },
  {
   "cell_type": "code",
   "execution_count": 6,
   "id": "702a9e3d",
   "metadata": {},
   "outputs": [
    {
     "name": "stdout",
     "output_type": "stream",
     "text": [
      "[nan 'F' 'M' 'Femal' 'Male' 'female']\n",
      "[nan 'F' 'M']\n"
     ]
    }
   ],
   "source": [
    "print(df_combined['gender'].unique()) #Check unique values\n",
    "df_combined['gender'] = df_combined['gender'].replace({\n",
    "    'Femal': 'F',\n",
    "    'female': 'F',\n",
    "    'Male': 'M',\n",
    "})\n",
    "# Replace the values\n",
    "print(df_combined['gender'].unique()) #Check the new values"
   ]
  },
  {
   "cell_type": "code",
   "execution_count": 7,
   "id": "0099bd70",
   "metadata": {},
   "outputs": [
    {
     "name": "stdout",
     "output_type": "stream",
     "text": [
      "['Washington' 'Arizona' 'Nevada' 'California' 'Oregon' 'Cali' 'AZ' 'WA'\n",
      " nan]\n",
      "['Washington' 'Arizona' 'Nevada' 'California' 'Oregon' nan]\n"
     ]
    }
   ],
   "source": [
    "print(df_combined['state'].unique()) # Check unique values\n",
    "df_combined['state'] = df_combined['state'].replace({ #Replace the values\n",
    "    'WA': 'Washington',\n",
    "    'AZ': 'Arizona',\n",
    "    'Cali': 'California',\n",
    "})\n",
    "# Check the new values\n",
    "print(df_combined['state'].unique()) #Check the new values"
   ]
  },
  {
   "cell_type": "code",
   "execution_count": 8,
   "id": "d3f4e504",
   "metadata": {},
   "outputs": [
    {
     "name": "stdout",
     "output_type": "stream",
     "text": [
      "['Master' 'Bachelor' 'High School or Below' 'College' 'Bachelors' 'Doctor'\n",
      " nan]\n"
     ]
    },
    {
     "data": {
      "text/plain": [
       "array(['Master', 'Bachelor', 'High School or Below', 'College', 'Doctor',\n",
       "       nan], dtype=object)"
      ]
     },
     "execution_count": 8,
     "metadata": {},
     "output_type": "execute_result"
    }
   ],
   "source": [
    "print(df_combined['education'].unique()) # Check unique values\n",
    "df_combined['education'] = df_combined['education'].replace({ #Replace the values\n",
    "    'Bachelors': 'Bachelor',\n",
    "    })\n",
    "df_combined['education'].unique()\n"
   ]
  },
  {
   "cell_type": "code",
   "execution_count": 9,
   "id": "83beb61f",
   "metadata": {},
   "outputs": [
    {
     "name": "stdout",
     "output_type": "stream",
     "text": [
      "['Four-Door Car' 'Two-Door Car' 'SUV' 'Luxury SUV' 'Sports Car'\n",
      " 'Luxury Car' nan]\n",
      "['Four-Door Car' 'Two-Door Car' 'SUV' 'Luxury' nan]\n"
     ]
    }
   ],
   "source": [
    "print(df_combined['vehicle class'].unique()) # Check unique values\n",
    "df_combined['vehicle class'] = df_combined['vehicle class'].replace({ # Replace the values\n",
    "    'Sports Car': 'Luxury',\n",
    "    'Luxury SUV': 'Luxury',\n",
    "    'Luxury Car': 'Luxury',\n",
    "})\n",
    "print(df_combined['vehicle class'].unique()) # Check the new values"
   ]
  },
  {
   "cell_type": "code",
   "execution_count": 10,
   "id": "389ccde3",
   "metadata": {},
   "outputs": [
    {
     "name": "stdout",
     "output_type": "stream",
     "text": [
      "0                NaN\n",
      "1         697953.59%\n",
      "2        1288743.17%\n",
      "3         764586.18%\n",
      "4         536307.65%\n",
      "            ...     \n",
      "12069    23405.98798\n",
      "12070    3096.511217\n",
      "12071    8163.890428\n",
      "12072    7524.442436\n",
      "12073    2611.836866\n",
      "Name: customer lifetime value, Length: 12074, dtype: object\n",
      "0             NaN\n",
      "1             NaN\n",
      "2             NaN\n",
      "3             NaN\n",
      "4             NaN\n",
      "           ...   \n",
      "12069    23405.99\n",
      "12070     3096.51\n",
      "12071     8163.89\n",
      "12072     7524.44\n",
      "12073     2611.84\n",
      "Name: customer lifetime value, Length: 12074, dtype: float64\n"
     ]
    }
   ],
   "source": [
    "print(df_combined['customer lifetime value']) # Check unique values\n",
    "# Convert the 'customer lifetime value' column to numeric and round to 2 decimal places\n",
    "df_combined['customer lifetime value'] = pd.to_numeric(df_combined['customer lifetime value'], errors='coerce').round(2)\n",
    "print(df_combined['customer lifetime value']) # Check the new values"
   ]
  },
  {
   "cell_type": "code",
   "execution_count": 11,
   "id": "58b672f1",
   "metadata": {},
   "outputs": [
    {
     "name": "stdout",
     "output_type": "stream",
     "text": [
      "['1/0/00' '1/2/00' '1/1/00' '1/3/00' '1/5/00' '1/4/00' nan 0 2 3 1 5 4]\n",
      "[ 0.  2.  1.  3.  5.  4. nan]\n"
     ]
    }
   ],
   "source": [
    "print(df_combined['number of open complaints'].unique()) # Check unique values\n",
    "# Safely extract the second value after splitting by '/' and convert to numeric\n",
    "df_combined['number of open complaints'] = (\n",
    "\tdf_combined['number of open complaints']\n",
    "\t.astype(str)\n",
    "\t.str.split('/')\n",
    "\t.str[1]\n",
    ")\n",
    "df_combined['number of open complaints'] = pd.to_numeric(df_combined['number of open complaints'], errors='coerce')\n",
    "print(df_combined['number of open complaints'].unique()) # Check the new values"
   ]
  },
  {
   "cell_type": "code",
   "execution_count": 12,
   "id": "1f0c103d",
   "metadata": {},
   "outputs": [
    {
     "data": {
      "text/plain": [
       "(12074, 11)"
      ]
     },
     "execution_count": 12,
     "metadata": {},
     "output_type": "execute_result"
    }
   ],
   "source": [
    "df_combined.shape # Check the shape of the combined dataframe"
   ]
  },
  {
   "cell_type": "code",
   "execution_count": 13,
   "id": "e501c1a4",
   "metadata": {},
   "outputs": [
    {
     "data": {
      "text/plain": [
       "customer                      2937\n",
       "state                         2937\n",
       "gender                        3059\n",
       "education                     2937\n",
       "customer lifetime value       5004\n",
       "income                        2937\n",
       "monthly premium auto          2937\n",
       "number of open complaints    10007\n",
       "policy type                   2937\n",
       "vehicle class                 2937\n",
       "total claim amount            2937\n",
       "dtype: int64"
      ]
     },
     "execution_count": 13,
     "metadata": {},
     "output_type": "execute_result"
    }
   ],
   "source": [
    "df_combined.isna().sum() #The total number of null values by each collumn "
   ]
  },
  {
   "cell_type": "code",
   "execution_count": 14,
   "id": "13e5bb0a",
   "metadata": {},
   "outputs": [
    {
     "name": "stdout",
     "output_type": "stream",
     "text": [
      "customer                        0\n",
      "state                           0\n",
      "gender                        122\n",
      "education                       0\n",
      "customer lifetime value      2067\n",
      "income                          0\n",
      "monthly premium auto            0\n",
      "number of open complaints    7070\n",
      "policy type                     0\n",
      "vehicle class                   0\n",
      "total claim amount              0\n",
      "dtype: int64\n"
     ]
    }
   ],
   "source": [
    "df_combined.dropna(how='all', inplace=True) # Drop rows where all elements are NaN\n",
    "print(df_combined.isna().sum()) #The total number of null values by each collumn "
   ]
  },
  {
   "cell_type": "code",
   "execution_count": 3,
   "id": "e6eca282",
   "metadata": {},
   "outputs": [
    {
     "ename": "NameError",
     "evalue": "name 'df_combined' is not defined",
     "output_type": "error",
     "traceback": [
      "\u001b[31m---------------------------------------------------------------------------\u001b[39m",
      "\u001b[31mNameError\u001b[39m                                 Traceback (most recent call last)",
      "\u001b[36mCell\u001b[39m\u001b[36m \u001b[39m\u001b[32mIn[3]\u001b[39m\u001b[32m, line 1\u001b[39m\n\u001b[32m----> \u001b[39m\u001b[32m1\u001b[39m \u001b[43mdf_combined\u001b[49m.drop(df_combined.drop(\u001b[33m'\u001b[39m\u001b[33mnumber of_open complaints\u001b[39m\u001b[33m'\u001b[39m, axis=\u001b[32m1\u001b[39m, inplace=\u001b[38;5;28;01mTrue\u001b[39;00m)) \u001b[38;5;66;03m# Drop the 'number of_open complaints' column\u001b[39;00m\n",
      "\u001b[31mNameError\u001b[39m: name 'df_combined' is not defined"
     ]
    }
   ],
   "source": [
    "df_combined.drop(df_combined.drop('number of_open complaints', axis=1, inplace=True)) # Drop the 'number of_open complaints' column\n"
   ]
  },
  {
   "cell_type": "code",
   "execution_count": 21,
   "id": "795c5f0f",
   "metadata": {},
   "outputs": [
    {
     "name": "stdout",
     "output_type": "stream",
     "text": [
      "customer                     0\n",
      "state                        0\n",
      "gender                       0\n",
      "education                    0\n",
      "customer lifetime value      0\n",
      "income                       0\n",
      "monthly premium auto         0\n",
      "number of open complaints    0\n",
      "policy type                  0\n",
      "vehicle class                0\n",
      "total claim amount           0\n",
      "dtype: int64\n"
     ]
    }
   ],
   "source": [
    "df_combined[['gender', 'number of open complaints']] = df_combined[['gender', 'number of open complaints']].fillna('unknown')\n",
    "# Fill NaN values \n",
    "\n",
    "df_combined['customer lifetime value'] = df_combined['customer lifetime value'].fillna(df_combined['customer lifetime value'].median())\n",
    "print(df_combined.isna().sum()) #The total number of null values by each collumn "
   ]
  },
  {
   "cell_type": "code",
   "execution_count": 22,
   "id": "8f8d304a",
   "metadata": {},
   "outputs": [
    {
     "data": {
      "text/plain": [
       "customer                     object\n",
       "state                        object\n",
       "gender                       object\n",
       "education                    object\n",
       "customer lifetime value       int64\n",
       "income                        int64\n",
       "monthly premium auto          int64\n",
       "number of open complaints    object\n",
       "policy type                  object\n",
       "vehicle class                object\n",
       "total claim amount            int64\n",
       "dtype: object"
      ]
     },
     "execution_count": 22,
     "metadata": {},
     "output_type": "execute_result"
    }
   ],
   "source": [
    "numeric_c = df_combined.select_dtypes(include=['number']).columns #convert all the numeric variables to integers\n",
    "df_combined[numeric_c] = df_combined[numeric_c].astype(int)\n",
    "df_combined.dtypes"
   ]
  },
  {
   "cell_type": "code",
   "execution_count": 24,
   "id": "085e8965",
   "metadata": {},
   "outputs": [
    {
     "name": "stdout",
     "output_type": "stream",
     "text": [
      "0        False\n",
      "1        False\n",
      "2        False\n",
      "3        False\n",
      "4        False\n",
      "         ...  \n",
      "12069    False\n",
      "12070    False\n",
      "12071    False\n",
      "12072    False\n",
      "12073    False\n",
      "Length: 9137, dtype: bool\n",
      "3\n",
      "True\n",
      "0\n"
     ]
    }
   ],
   "source": [
    "print(df_combined.duplicated())# Check for duplicates\n",
    "print(df_combined.duplicated().sum()) # Check the number of duplicates\n",
    "print(df_combined.duplicated().any())# Check if there are any duplicates\n",
    "df_combined.drop_duplicates(inplace=True) # Drop duplicates\n",
    "print(df_combined.duplicated().sum()) # Check the number of duplicates"
   ]
  },
  {
   "cell_type": "markdown",
   "id": "31b8a9e7-7db9-4604-991b-ef6771603e57",
   "metadata": {
    "id": "31b8a9e7-7db9-4604-991b-ef6771603e57"
   },
   "source": [
    "# Challenge 2: Structuring Data"
   ]
  },
  {
   "cell_type": "markdown",
   "id": "a877fd6d-7a0c-46d2-9657-f25036e4ca4b",
   "metadata": {
    "id": "a877fd6d-7a0c-46d2-9657-f25036e4ca4b"
   },
   "source": [
    "In this challenge, we will continue to work with customer data from an insurance company, but we will use a dataset with more columns, called marketing_customer_analysis.csv, which can be found at the following link:\n",
    "\n",
    "https://raw.githubusercontent.com/data-bootcamp-v4/data/main/marketing_customer_analysis_clean.csv\n",
    "\n",
    "This dataset contains information such as customer demographics, policy details, vehicle information, and the customer's response to the last marketing campaign. Our goal is to explore and analyze this data by performing data cleaning, formatting, and structuring."
   ]
  },
  {
   "cell_type": "markdown",
   "id": "df35fd0d-513e-4e77-867e-429da10a9cc7",
   "metadata": {
    "id": "df35fd0d-513e-4e77-867e-429da10a9cc7"
   },
   "source": [
    "1. You work at the marketing department and you want to know which sales channel brought the most sales in terms of total revenue. Using pivot, create a summary table showing the total revenue for each sales channel (branch, call center, web, and mail).\n",
    "Round the total revenue to 2 decimal points.  Analyze the resulting table to draw insights."
   ]
  },
  {
   "cell_type": "markdown",
   "id": "640993b2-a291-436c-a34d-a551144f8196",
   "metadata": {
    "id": "640993b2-a291-436c-a34d-a551144f8196"
   },
   "source": [
    "2. Create a pivot table that shows the average customer lifetime value per gender and education level. Analyze the resulting table to draw insights."
   ]
  },
  {
   "cell_type": "code",
   "execution_count": 13,
   "id": "cd5a6c5b",
   "metadata": {},
   "outputs": [
    {
     "data": {
      "text/html": [
       "<div>\n",
       "<style scoped>\n",
       "    .dataframe tbody tr th:only-of-type {\n",
       "        vertical-align: middle;\n",
       "    }\n",
       "\n",
       "    .dataframe tbody tr th {\n",
       "        vertical-align: top;\n",
       "    }\n",
       "\n",
       "    .dataframe thead th {\n",
       "        text-align: right;\n",
       "    }\n",
       "</style>\n",
       "<table border=\"1\" class=\"dataframe\">\n",
       "  <thead>\n",
       "    <tr style=\"text-align: right;\">\n",
       "      <th></th>\n",
       "      <th>unnamed:_0</th>\n",
       "      <th>customer</th>\n",
       "      <th>state</th>\n",
       "      <th>customer_lifetime_value</th>\n",
       "      <th>response</th>\n",
       "      <th>coverage</th>\n",
       "      <th>education</th>\n",
       "      <th>effective_to_date</th>\n",
       "      <th>employmentstatus</th>\n",
       "      <th>gender</th>\n",
       "      <th>...</th>\n",
       "      <th>number_of_policies</th>\n",
       "      <th>policy_type</th>\n",
       "      <th>policy</th>\n",
       "      <th>renew_offer_type</th>\n",
       "      <th>sales_channel</th>\n",
       "      <th>total_claim_amount</th>\n",
       "      <th>vehicle_class</th>\n",
       "      <th>vehicle_size</th>\n",
       "      <th>vehicle_type</th>\n",
       "      <th>month</th>\n",
       "    </tr>\n",
       "  </thead>\n",
       "  <tbody>\n",
       "    <tr>\n",
       "      <th>0</th>\n",
       "      <td>0</td>\n",
       "      <td>DK49336</td>\n",
       "      <td>Arizona</td>\n",
       "      <td>4809.216960</td>\n",
       "      <td>No</td>\n",
       "      <td>Basic</td>\n",
       "      <td>College</td>\n",
       "      <td>2011-02-18</td>\n",
       "      <td>Employed</td>\n",
       "      <td>M</td>\n",
       "      <td>...</td>\n",
       "      <td>9</td>\n",
       "      <td>Corporate Auto</td>\n",
       "      <td>Corporate L3</td>\n",
       "      <td>Offer3</td>\n",
       "      <td>Agent</td>\n",
       "      <td>292.800000</td>\n",
       "      <td>Four-Door Car</td>\n",
       "      <td>Medsize</td>\n",
       "      <td>A</td>\n",
       "      <td>2</td>\n",
       "    </tr>\n",
       "    <tr>\n",
       "      <th>1</th>\n",
       "      <td>1</td>\n",
       "      <td>KX64629</td>\n",
       "      <td>California</td>\n",
       "      <td>2228.525238</td>\n",
       "      <td>No</td>\n",
       "      <td>Basic</td>\n",
       "      <td>College</td>\n",
       "      <td>2011-01-18</td>\n",
       "      <td>Unemployed</td>\n",
       "      <td>F</td>\n",
       "      <td>...</td>\n",
       "      <td>1</td>\n",
       "      <td>Personal Auto</td>\n",
       "      <td>Personal L3</td>\n",
       "      <td>Offer4</td>\n",
       "      <td>Call Center</td>\n",
       "      <td>744.924331</td>\n",
       "      <td>Four-Door Car</td>\n",
       "      <td>Medsize</td>\n",
       "      <td>A</td>\n",
       "      <td>1</td>\n",
       "    </tr>\n",
       "    <tr>\n",
       "      <th>2</th>\n",
       "      <td>2</td>\n",
       "      <td>LZ68649</td>\n",
       "      <td>Washington</td>\n",
       "      <td>14947.917300</td>\n",
       "      <td>No</td>\n",
       "      <td>Basic</td>\n",
       "      <td>Bachelor</td>\n",
       "      <td>2011-02-10</td>\n",
       "      <td>Employed</td>\n",
       "      <td>M</td>\n",
       "      <td>...</td>\n",
       "      <td>2</td>\n",
       "      <td>Personal Auto</td>\n",
       "      <td>Personal L3</td>\n",
       "      <td>Offer3</td>\n",
       "      <td>Call Center</td>\n",
       "      <td>480.000000</td>\n",
       "      <td>SUV</td>\n",
       "      <td>Medsize</td>\n",
       "      <td>A</td>\n",
       "      <td>2</td>\n",
       "    </tr>\n",
       "    <tr>\n",
       "      <th>3</th>\n",
       "      <td>3</td>\n",
       "      <td>XL78013</td>\n",
       "      <td>Oregon</td>\n",
       "      <td>22332.439460</td>\n",
       "      <td>Yes</td>\n",
       "      <td>Extended</td>\n",
       "      <td>College</td>\n",
       "      <td>2011-01-11</td>\n",
       "      <td>Employed</td>\n",
       "      <td>M</td>\n",
       "      <td>...</td>\n",
       "      <td>2</td>\n",
       "      <td>Corporate Auto</td>\n",
       "      <td>Corporate L3</td>\n",
       "      <td>Offer2</td>\n",
       "      <td>Branch</td>\n",
       "      <td>484.013411</td>\n",
       "      <td>Four-Door Car</td>\n",
       "      <td>Medsize</td>\n",
       "      <td>A</td>\n",
       "      <td>1</td>\n",
       "    </tr>\n",
       "    <tr>\n",
       "      <th>4</th>\n",
       "      <td>4</td>\n",
       "      <td>QA50777</td>\n",
       "      <td>Oregon</td>\n",
       "      <td>9025.067525</td>\n",
       "      <td>No</td>\n",
       "      <td>Premium</td>\n",
       "      <td>Bachelor</td>\n",
       "      <td>2011-01-17</td>\n",
       "      <td>Medical Leave</td>\n",
       "      <td>F</td>\n",
       "      <td>...</td>\n",
       "      <td>7</td>\n",
       "      <td>Personal Auto</td>\n",
       "      <td>Personal L2</td>\n",
       "      <td>Offer1</td>\n",
       "      <td>Branch</td>\n",
       "      <td>707.925645</td>\n",
       "      <td>Four-Door Car</td>\n",
       "      <td>Medsize</td>\n",
       "      <td>A</td>\n",
       "      <td>1</td>\n",
       "    </tr>\n",
       "    <tr>\n",
       "      <th>...</th>\n",
       "      <td>...</td>\n",
       "      <td>...</td>\n",
       "      <td>...</td>\n",
       "      <td>...</td>\n",
       "      <td>...</td>\n",
       "      <td>...</td>\n",
       "      <td>...</td>\n",
       "      <td>...</td>\n",
       "      <td>...</td>\n",
       "      <td>...</td>\n",
       "      <td>...</td>\n",
       "      <td>...</td>\n",
       "      <td>...</td>\n",
       "      <td>...</td>\n",
       "      <td>...</td>\n",
       "      <td>...</td>\n",
       "      <td>...</td>\n",
       "      <td>...</td>\n",
       "      <td>...</td>\n",
       "      <td>...</td>\n",
       "      <td>...</td>\n",
       "    </tr>\n",
       "    <tr>\n",
       "      <th>10905</th>\n",
       "      <td>10905</td>\n",
       "      <td>FE99816</td>\n",
       "      <td>Nevada</td>\n",
       "      <td>15563.369440</td>\n",
       "      <td>No</td>\n",
       "      <td>Premium</td>\n",
       "      <td>Bachelor</td>\n",
       "      <td>2011-01-19</td>\n",
       "      <td>Unemployed</td>\n",
       "      <td>F</td>\n",
       "      <td>...</td>\n",
       "      <td>7</td>\n",
       "      <td>Personal Auto</td>\n",
       "      <td>Personal L1</td>\n",
       "      <td>Offer3</td>\n",
       "      <td>Web</td>\n",
       "      <td>1214.400000</td>\n",
       "      <td>Luxury Car</td>\n",
       "      <td>Medsize</td>\n",
       "      <td>A</td>\n",
       "      <td>1</td>\n",
       "    </tr>\n",
       "    <tr>\n",
       "      <th>10906</th>\n",
       "      <td>10906</td>\n",
       "      <td>KX53892</td>\n",
       "      <td>Oregon</td>\n",
       "      <td>5259.444853</td>\n",
       "      <td>No</td>\n",
       "      <td>Basic</td>\n",
       "      <td>College</td>\n",
       "      <td>2011-01-06</td>\n",
       "      <td>Employed</td>\n",
       "      <td>F</td>\n",
       "      <td>...</td>\n",
       "      <td>6</td>\n",
       "      <td>Personal Auto</td>\n",
       "      <td>Personal L3</td>\n",
       "      <td>Offer2</td>\n",
       "      <td>Branch</td>\n",
       "      <td>273.018929</td>\n",
       "      <td>Four-Door Car</td>\n",
       "      <td>Medsize</td>\n",
       "      <td>A</td>\n",
       "      <td>1</td>\n",
       "    </tr>\n",
       "    <tr>\n",
       "      <th>10907</th>\n",
       "      <td>10907</td>\n",
       "      <td>TL39050</td>\n",
       "      <td>Arizona</td>\n",
       "      <td>23893.304100</td>\n",
       "      <td>No</td>\n",
       "      <td>Extended</td>\n",
       "      <td>Bachelor</td>\n",
       "      <td>2011-02-06</td>\n",
       "      <td>Employed</td>\n",
       "      <td>F</td>\n",
       "      <td>...</td>\n",
       "      <td>2</td>\n",
       "      <td>Corporate Auto</td>\n",
       "      <td>Corporate L3</td>\n",
       "      <td>Offer1</td>\n",
       "      <td>Web</td>\n",
       "      <td>381.306996</td>\n",
       "      <td>Luxury SUV</td>\n",
       "      <td>Medsize</td>\n",
       "      <td>A</td>\n",
       "      <td>2</td>\n",
       "    </tr>\n",
       "    <tr>\n",
       "      <th>10908</th>\n",
       "      <td>10908</td>\n",
       "      <td>WA60547</td>\n",
       "      <td>California</td>\n",
       "      <td>11971.977650</td>\n",
       "      <td>No</td>\n",
       "      <td>Premium</td>\n",
       "      <td>College</td>\n",
       "      <td>2011-02-13</td>\n",
       "      <td>Employed</td>\n",
       "      <td>F</td>\n",
       "      <td>...</td>\n",
       "      <td>6</td>\n",
       "      <td>Personal Auto</td>\n",
       "      <td>Personal L1</td>\n",
       "      <td>Offer1</td>\n",
       "      <td>Branch</td>\n",
       "      <td>618.288849</td>\n",
       "      <td>SUV</td>\n",
       "      <td>Medsize</td>\n",
       "      <td>A</td>\n",
       "      <td>2</td>\n",
       "    </tr>\n",
       "    <tr>\n",
       "      <th>10909</th>\n",
       "      <td>10909</td>\n",
       "      <td>IV32877</td>\n",
       "      <td>California</td>\n",
       "      <td>6857.519928</td>\n",
       "      <td>No</td>\n",
       "      <td>Basic</td>\n",
       "      <td>Bachelor</td>\n",
       "      <td>2011-01-08</td>\n",
       "      <td>Unemployed</td>\n",
       "      <td>M</td>\n",
       "      <td>...</td>\n",
       "      <td>3</td>\n",
       "      <td>Personal Auto</td>\n",
       "      <td>Personal L1</td>\n",
       "      <td>Offer4</td>\n",
       "      <td>Web</td>\n",
       "      <td>1021.719397</td>\n",
       "      <td>SUV</td>\n",
       "      <td>Medsize</td>\n",
       "      <td>A</td>\n",
       "      <td>1</td>\n",
       "    </tr>\n",
       "  </tbody>\n",
       "</table>\n",
       "<p>10910 rows × 27 columns</p>\n",
       "</div>"
      ],
      "text/plain": [
       "       unnamed:_0 customer       state  customer_lifetime_value response  \\\n",
       "0               0  DK49336     Arizona              4809.216960       No   \n",
       "1               1  KX64629  California              2228.525238       No   \n",
       "2               2  LZ68649  Washington             14947.917300       No   \n",
       "3               3  XL78013      Oregon             22332.439460      Yes   \n",
       "4               4  QA50777      Oregon              9025.067525       No   \n",
       "...           ...      ...         ...                      ...      ...   \n",
       "10905       10905  FE99816      Nevada             15563.369440       No   \n",
       "10906       10906  KX53892      Oregon              5259.444853       No   \n",
       "10907       10907  TL39050     Arizona             23893.304100       No   \n",
       "10908       10908  WA60547  California             11971.977650       No   \n",
       "10909       10909  IV32877  California              6857.519928       No   \n",
       "\n",
       "       coverage education effective_to_date employmentstatus gender  ...  \\\n",
       "0         Basic   College        2011-02-18         Employed      M  ...   \n",
       "1         Basic   College        2011-01-18       Unemployed      F  ...   \n",
       "2         Basic  Bachelor        2011-02-10         Employed      M  ...   \n",
       "3      Extended   College        2011-01-11         Employed      M  ...   \n",
       "4       Premium  Bachelor        2011-01-17    Medical Leave      F  ...   \n",
       "...         ...       ...               ...              ...    ...  ...   \n",
       "10905   Premium  Bachelor        2011-01-19       Unemployed      F  ...   \n",
       "10906     Basic   College        2011-01-06         Employed      F  ...   \n",
       "10907  Extended  Bachelor        2011-02-06         Employed      F  ...   \n",
       "10908   Premium   College        2011-02-13         Employed      F  ...   \n",
       "10909     Basic  Bachelor        2011-01-08       Unemployed      M  ...   \n",
       "\n",
       "       number_of_policies     policy_type        policy  renew_offer_type  \\\n",
       "0                       9  Corporate Auto  Corporate L3            Offer3   \n",
       "1                       1   Personal Auto   Personal L3            Offer4   \n",
       "2                       2   Personal Auto   Personal L3            Offer3   \n",
       "3                       2  Corporate Auto  Corporate L3            Offer2   \n",
       "4                       7   Personal Auto   Personal L2            Offer1   \n",
       "...                   ...             ...           ...               ...   \n",
       "10905                   7   Personal Auto   Personal L1            Offer3   \n",
       "10906                   6   Personal Auto   Personal L3            Offer2   \n",
       "10907                   2  Corporate Auto  Corporate L3            Offer1   \n",
       "10908                   6   Personal Auto   Personal L1            Offer1   \n",
       "10909                   3   Personal Auto   Personal L1            Offer4   \n",
       "\n",
       "       sales_channel  total_claim_amount  vehicle_class  vehicle_size  \\\n",
       "0              Agent          292.800000  Four-Door Car       Medsize   \n",
       "1        Call Center          744.924331  Four-Door Car       Medsize   \n",
       "2        Call Center          480.000000            SUV       Medsize   \n",
       "3             Branch          484.013411  Four-Door Car       Medsize   \n",
       "4             Branch          707.925645  Four-Door Car       Medsize   \n",
       "...              ...                 ...            ...           ...   \n",
       "10905            Web         1214.400000     Luxury Car       Medsize   \n",
       "10906         Branch          273.018929  Four-Door Car       Medsize   \n",
       "10907            Web          381.306996     Luxury SUV       Medsize   \n",
       "10908         Branch          618.288849            SUV       Medsize   \n",
       "10909            Web         1021.719397            SUV       Medsize   \n",
       "\n",
       "      vehicle_type month  \n",
       "0                A     2  \n",
       "1                A     1  \n",
       "2                A     2  \n",
       "3                A     1  \n",
       "4                A     1  \n",
       "...            ...   ...  \n",
       "10905            A     1  \n",
       "10906            A     1  \n",
       "10907            A     2  \n",
       "10908            A     2  \n",
       "10909            A     1  \n",
       "\n",
       "[10910 rows x 27 columns]"
      ]
     },
     "execution_count": 13,
     "metadata": {},
     "output_type": "execute_result"
    }
   ],
   "source": [
    "df = pd.read_csv('https://raw.githubusercontent.com/data-bootcamp-v4/data/main/marketing_customer_analysis_clean.csv') #read csv file from the github repository\n",
    "df\n"
   ]
  },
  {
   "cell_type": "code",
   "execution_count": 14,
   "id": "ad5a1740",
   "metadata": {},
   "outputs": [
    {
     "name": "stdout",
     "output_type": "stream",
     "text": [
      "Index(['unnamed:_0', 'customer', 'state', 'customer_lifetime_value',\n",
      "       'response', 'coverage', 'education', 'effective_to_date',\n",
      "       'employmentstatus', 'gender', 'income', 'location_code',\n",
      "       'marital_status', 'monthly_premium_auto', 'months_since_last_claim',\n",
      "       'months_since_policy_inception', 'number_of_open_complaints',\n",
      "       'number_of_policies', 'policy_type', 'policy', 'renew_offer_type',\n",
      "       'sales_channel', 'total_claim_amount', 'vehicle_class', 'vehicle_size',\n",
      "       'vehicle_type', 'month'],\n",
      "      dtype='object')\n"
     ]
    },
    {
     "data": {
      "text/plain": [
       "(10910, 27)"
      ]
     },
     "execution_count": 14,
     "metadata": {},
     "output_type": "execute_result"
    }
   ],
   "source": [
    "print(df.columns) # Check the columns of the dataframe  \n",
    "df.shape # Check the shape of the dataframe"
   ]
  },
  {
   "cell_type": "code",
   "execution_count": 27,
   "id": "f8db80aa",
   "metadata": {},
   "outputs": [
    {
     "data": {
      "text/plain": [
       "Index(['customer', 'state', 'customer lifetime value', 'response', 'coverage',\n",
       "       'education', 'effective to date', 'employment status', 'gender',\n",
       "       'income', 'location code', 'marital status', 'monthly premium auto',\n",
       "       'months since last claim', 'months since policy inception',\n",
       "       'number of open complaints', 'number of policies', 'policy type',\n",
       "       'policy', 'renew offer type', 'sales channel', 'total claim amount',\n",
       "       'vehicle class', 'vehicle size', 'vehicle type', 'month'],\n",
       "      dtype='object')"
      ]
     },
     "execution_count": 27,
     "metadata": {},
     "output_type": "execute_result"
    }
   ],
   "source": [
    "if 'unnamed:_0' in df.columns:\n",
    "\tdf.drop('unnamed:_0', axis=1, inplace=True) #rewmove the unnamed column if it exists\n",
    "df.columns = df.columns.str.strip().str.lower() #strip the column names of whitespace and convert them to lowercase\n",
    "df.columns = df.columns.str.replace('_', ' ', regex=False)  #replace leading and trailing whitespace with empty string\n",
    "df = df.rename(columns={'employmentstatus': 'employment status'}) #rename the column 'employmentstatus' to 'employment status'\n",
    "df['education'] = df['education'].replace({\n",
    "    'Doctor': 'Doctorate',\n",
    "})\n",
    "# Replace the values\n",
    "df.columns # Check the columns of the dataframe"
   ]
  },
  {
   "cell_type": "code",
   "execution_count": 16,
   "id": "72a54fe5",
   "metadata": {},
   "outputs": [
    {
     "name": "stdout",
     "output_type": "stream",
     "text": [
      "customer                         9134\n",
      "state                               5\n",
      "customer lifetime value          8041\n",
      "response                            2\n",
      "coverage                            3\n",
      "education                           5\n",
      "effective to date                  59\n",
      "employmentstatus                    5\n",
      "gender                              2\n",
      "income                           5694\n",
      "location code                       3\n",
      "marital status                      3\n",
      "monthly premium auto              202\n",
      "months since last claim            37\n",
      "months since policy inception     100\n",
      "number of open complaints           7\n",
      "number of policies                  9\n",
      "policy type                         3\n",
      "policy                              9\n",
      "renew offer type                    4\n",
      "sales channel                       4\n",
      "total claim amount               5106\n",
      "vehicle class                       6\n",
      "vehicle size                        3\n",
      "vehicle type                        1\n",
      "month                               2\n",
      "dtype: int64\n"
     ]
    }
   ],
   "source": [
    "unique_counts = df.nunique() # Count unique values in each column\n",
    "print(unique_counts)\n"
   ]
  },
  {
   "cell_type": "code",
   "execution_count": 17,
   "id": "6614d549",
   "metadata": {},
   "outputs": [
    {
     "name": "stdout",
     "output_type": "stream",
     "text": [
      "[9 1 2 7 4 3 6 8 5]\n",
      "['Corporate L3' 'Personal L3' 'Personal L2' 'Corporate L2' 'Personal L1'\n",
      " 'Special L1' 'Corporate L1' 'Special L3' 'Special L2']\n"
     ]
    }
   ],
   "source": [
    "print(df['number of policies'].unique()) #Check unique values\n",
    "print(df['policy'].unique()) \n"
   ]
  },
  {
   "cell_type": "code",
   "execution_count": 18,
   "id": "2078abf4",
   "metadata": {},
   "outputs": [
    {
     "data": {
      "text/plain": [
       "customer                          object\n",
       "state                             object\n",
       "customer lifetime value          float64\n",
       "response                          object\n",
       "coverage                          object\n",
       "education                         object\n",
       "effective to date                 object\n",
       "employmentstatus                  object\n",
       "gender                            object\n",
       "income                             int64\n",
       "location code                     object\n",
       "marital status                    object\n",
       "monthly premium auto               int64\n",
       "months since last claim          float64\n",
       "months since policy inception      int64\n",
       "number of open complaints        float64\n",
       "number of policies                 int64\n",
       "policy type                       object\n",
       "policy                            object\n",
       "renew offer type                  object\n",
       "sales channel                     object\n",
       "total claim amount               float64\n",
       "vehicle class                     object\n",
       "vehicle size                      object\n",
       "vehicle type                      object\n",
       "month                              int64\n",
       "dtype: object"
      ]
     },
     "execution_count": 18,
     "metadata": {},
     "output_type": "execute_result"
    }
   ],
   "source": [
    "df.dtypes# Check the data types of the columns"
   ]
  },
  {
   "cell_type": "code",
   "execution_count": 19,
   "id": "0a33d7d5",
   "metadata": {},
   "outputs": [
    {
     "data": {
      "text/plain": [
       "customer                         0\n",
       "state                            0\n",
       "customer lifetime value          0\n",
       "response                         0\n",
       "coverage                         0\n",
       "education                        0\n",
       "effective to date                0\n",
       "employmentstatus                 0\n",
       "gender                           0\n",
       "income                           0\n",
       "location code                    0\n",
       "marital status                   0\n",
       "monthly premium auto             0\n",
       "months since last claim          0\n",
       "months since policy inception    0\n",
       "number of open complaints        0\n",
       "number of policies               0\n",
       "policy type                      0\n",
       "policy                           0\n",
       "renew offer type                 0\n",
       "sales channel                    0\n",
       "total claim amount               0\n",
       "vehicle class                    0\n",
       "vehicle size                     0\n",
       "vehicle type                     0\n",
       "month                            0\n",
       "dtype: int64"
      ]
     },
     "execution_count": 19,
     "metadata": {},
     "output_type": "execute_result"
    }
   ],
   "source": [
    "df.isna().sum() #The total number of null values by each collumn "
   ]
  },
  {
   "cell_type": "code",
   "execution_count": 20,
   "id": "3b4807b9",
   "metadata": {},
   "outputs": [
    {
     "name": "stdout",
     "output_type": "stream",
     "text": [
      "443\n",
      "True\n",
      "0\n"
     ]
    }
   ],
   "source": [
    "print(df.duplicated().sum()) # Check the number of duplicates\n",
    "print(df.duplicated().any())# Check if there are any duplicates\n",
    "df.drop_duplicates(inplace=True) # Drop duplicates\n",
    "print(df.duplicated().sum()) # Check the number of duplicates"
   ]
  },
  {
   "cell_type": "code",
   "execution_count": 23,
   "id": "ee839872",
   "metadata": {},
   "outputs": [
    {
     "name": "stdout",
     "output_type": "stream",
     "text": [
      "               total claim amount\n",
      "sales channel                    \n",
      "Agent                  1748923.49\n",
      "Branch                 1259333.44\n",
      "Call Center             889094.77\n",
      "Web                     676658.10\n"
     ]
    }
   ],
   "source": [
    "pivot_df = df.pivot_table(\n",
    "    index='sales channel',\n",
    "    values='total claim amount',\n",
    "    aggfunc='sum'\n",
    ").round(2)\n",
    "print(pivot_df) # Print the pivot table"
   ]
  },
  {
   "cell_type": "markdown",
   "id": "1727985d",
   "metadata": {},
   "source": [
    "Agents generate the highest revenue at 1,748,923, which is more than double that of the Web channel, which contributes the least with only 676,658. The Branchs follows with a revenue of 1,259,333, while the Call Center brings in 889,094. \n",
    "\n",
    "It appears that personal services are outperforming digital and technology services, suggesting that the company should consider investing more in the digital and tech sectors."
   ]
  },
  {
   "cell_type": "code",
   "execution_count": 26,
   "id": "370f59b1",
   "metadata": {},
   "outputs": [
    {
     "name": "stdout",
     "output_type": "stream",
     "text": [
      "education  Bachelor  College  Doctorate  High School or Below   Master\n",
      "gender                                                                \n",
      "F           7913.45  7755.03    7369.59               8616.66  8226.36\n",
      "M           7713.30  8086.29    7414.86               8162.36  8154.61\n"
     ]
    }
   ],
   "source": [
    "pivot_df2 = pd.pivot_table(\n",
    "    df,\n",
    "    index='gender',\n",
    "    columns='education',\n",
    "    values='customer lifetime value',\n",
    "    aggfunc='mean'\n",
    ").round(2)\n",
    "\n",
    "print(pivot_df2)\n",
    "    "
   ]
  },
  {
   "cell_type": "markdown",
   "id": "1e95ff39",
   "metadata": {},
   "source": [
    "Overall, the customer lifetime value is higher for females than for males. Additionally, customers with a high school education or below have the highest average lifetime value, while those with a doctoral degree have the lowest. This suggests that females tend to spend more and remain loyal to the company for a longer period of time. Furthermore, individuals with higher levels of education are more selective compared to those with lower levels of education. The company should create a marketing plan targeting females with low level of education."
   ]
  },
  {
   "cell_type": "markdown",
   "id": "32c7f2e5-3d90-43e5-be33-9781b6069198",
   "metadata": {
    "id": "32c7f2e5-3d90-43e5-be33-9781b6069198"
   },
   "source": [
    "## Bonus\n",
    "\n",
    "You work at the customer service department and you want to know which months had the highest number of complaints by policy type category. Create a summary table showing the number of complaints by policy type and month.\n",
    "Show it in a long format table."
   ]
  },
  {
   "cell_type": "markdown",
   "id": "e3d09a8f-953c-448a-a5f8-2e5a8cca7291",
   "metadata": {
    "id": "e3d09a8f-953c-448a-a5f8-2e5a8cca7291"
   },
   "source": [
    "*In data analysis, a long format table is a way of structuring data in which each observation or measurement is stored in a separate row of the table. The key characteristic of a long format table is that each column represents a single variable, and each row represents a single observation of that variable.*\n",
    "\n",
    "*More information about long and wide format tables here: https://www.statology.org/long-vs-wide-data/*"
   ]
  },
  {
   "cell_type": "code",
   "execution_count": 26,
   "id": "3a069e0b-b400-470e-904d-d17582191be4",
   "metadata": {
    "id": "3a069e0b-b400-470e-904d-d17582191be4"
   },
   "outputs": [],
   "source": [
    "# Your code goes here"
   ]
  }
 ],
 "metadata": {
  "colab": {
   "provenance": []
  },
  "kernelspec": {
   "display_name": "Python 3",
   "language": "python",
   "name": "python3"
  },
  "language_info": {
   "codemirror_mode": {
    "name": "ipython",
    "version": 3
   },
   "file_extension": ".py",
   "mimetype": "text/x-python",
   "name": "python",
   "nbconvert_exporter": "python",
   "pygments_lexer": "ipython3",
   "version": "3.12.10"
  }
 },
 "nbformat": 4,
 "nbformat_minor": 5
}
